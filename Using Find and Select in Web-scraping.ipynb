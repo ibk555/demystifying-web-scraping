{
 "cells": [
  {
   "cell_type": "code",
   "execution_count": 1,
   "id": "87cc0a96-6e39-49e8-a1cc-647f938816ac",
   "metadata": {},
   "outputs": [],
   "source": [
    "import requests\n",
    "from bs4 import BeautifulSoup"
   ]
  },
  {
   "cell_type": "code",
   "execution_count": 2,
   "id": "77df1541-b75f-4d8d-b035-6e238a5d7537",
   "metadata": {},
   "outputs": [
    {
     "data": {
      "text/plain": [
       "<Response [200]>"
      ]
     },
     "execution_count": 2,
     "metadata": {},
     "output_type": "execute_result"
    }
   ],
   "source": [
    "url = 'https://en.wikipedia.org/wiki/Belgium'\n",
    "response = requests.get(url)\n",
    "response"
   ]
  },
  {
   "cell_type": "code",
   "execution_count": 13,
   "id": "fb27789b-dab7-4a61-b030-5253e533b97f",
   "metadata": {},
   "outputs": [
    {
     "data": {
      "text/plain": [
       "[<meta charset=\"utf-8\"/>,\n",
       " <title>Belgium - Wikipedia</title>,\n",
       " <script>(function(){var className=\"client-js vector-feature-language-in-header-enabled vector-feature-language-in-main-page-header-disabled vector-feature-page-tools-pinned-disabled vector-feature-toc-pinned-clientpref-1 vector-feature-main-menu-pinned-disabled vector-feature-limited-width-clientpref-1 vector-feature-limited-width-content-enabled vector-feature-custom-font-size-clientpref-1 vector-feature-appearance-pinned-clientpref-1 vector-feature-night-mode-enabled skin-theme-clientpref-day vector-sticky-header-enabled vector-toc-available\";var cookie=document.cookie.match(/(?:^|; )enwikimwclientpreferences=([^;]+)/);if(cookie){cookie[1].split('%2C').forEach(function(pref){className=className.replace(new RegExp('(^| )'+pref.replace(/-clientpref-\\w+$|[^\\w-]+/g,'')+'-clientpref-\\\\w+( |$)'),'$1'+pref+'$2');});}document.documentElement.className=className;}());RLCONF={\"wgBreakFrames\":false,\"wgSeparatorTransformTable\":[\"\",\"\"],\"wgDigitTransformTable\":[\"\",\"\"],\"wgDefaultDateFormat\":\"dmy\",\"wgMonthNames\":[\"\",\"January\",\"February\",\"March\",\"April\",\"May\",\"June\",\"July\",\"August\",\"September\",\"October\",\"November\",\"December\"],\"wgRequestId\":\"a4c882ec-c2ba-4304-9d04-5daee937628a\",\"wgCanonicalNamespace\":\"\",\"wgCanonicalSpecialPageName\":false,\"wgNamespaceNumber\":0,\"wgPageName\":\"Belgium\",\"wgTitle\":\"Belgium\",\"wgCurRevisionId\":1286342384,\"wgRevisionId\":1286342384,\"wgArticleId\":3343,\"wgIsArticle\":true,\"wgIsRedirect\":false,\"wgAction\":\"view\",\"wgUserName\":null,\"wgUserGroups\":[\"*\"],\"wgCategories\":[\"Pages using the Phonos extension\",\"Articles containing Dutch-language text\",\"Pages with Dutch IPA\",\"Pages including recorded pronunciations\",\"Articles containing French-language text\",\"Pages with French IPA\",\"Articles containing German-language text\",\"Pages with German IPA\",\"CS1 German-language sources (de)\",\"Webarchive template wayback links\",\"CS1 errors: ISBN date\",\"Articles with Dutch-language sources (nl)\",\"CS1 Dutch-language sources (nl)\",\"CS1 French-language sources (fr)\",\"All articles with vague or ambiguous time\",\"Vague or ambiguous time from June 2020\",\"CS1 errors: periodical ignored\",\"Webarchive template archiveis links\",\"CS1 Italian-language sources (it)\",\"Pages using gadget WikiMiniAtlas\",\"Articles with short description\",\"Short description is different from Wikidata\",\"Wikipedia pages semi-protected against vandalism\",\"Use dmy dates from November 2022\",\"Articles containing explicitly cited English-language text\",\"Pages using infobox country or infobox former country with the symbol caption or type parameters\",\"Articles needing additional references from April 2025\",\"All articles needing additional references\",\"Pages using multiple image with auto scaled images\",\"Articles containing potentially dated statements from 2006\",\"All articles containing potentially dated statements\",\"Articles containing potentially dated statements from 2007\",\"Wikipedia articles incorporating a citation from the 1911 Encyclopaedia Britannica with Wikisource reference\",\"Pages using Sister project links with hidden wikidata\",\"Pages using Sister project links with default search\",\"Coordinates on Wikidata\",\"Geographical articles missing image alternative text\",\"Belgium\",\"Benelux\",\"Countries and territories where Dutch is an official language\",\"Countries and territories where German is an official language\",\"Countries in Europe\",\"Federal monarchies\",\"French-speaking countries and territories\",\"Kingdoms\",\"Low Countries\",\"Member states of NATO\",\"Member states of the Council of Europe\",\"Member states of the Dutch Language Union\",\"Member states of the European Union\",\"Member states of the Organisation internationale de la Francophonie\",\"Member states of the Union for the Mediterranean\",\"Member states of the United Nations\",\"OECD members\",\"States and territories established in 1830\"],\"wgPageViewLanguage\":\"en\",\"wgPageContentLanguage\":\"en\",\"wgPageContentModel\":\"wikitext\",\"wgRelevantPageName\":\"Belgium\",\"wgRelevantArticleId\":3343,\"wgIsProbablyEditable\":false,\"wgRelevantPageIsProbablyEditable\":false,\"wgRestrictionEdit\":[\"autoconfirmed\"],\"wgRestrictionMove\":[\"sysop\"],\"wgNoticeProject\":\"wikipedia\",\"wgCiteReferencePreviewsActive\":false,\"wgFlaggedRevsParams\":{\"tags\":{\"status\":{\"levels\":1}}},\"wgMediaViewerOnClick\":true,\"wgMediaViewerEnabledByDefault\":true,\"wgPopupsFlags\":0,\"wgVisualEditor\":{\"pageLanguageCode\":\"en\",\"pageLanguageDir\":\"ltr\",\"pageVariantFallbacks\":\"en\"},\"wgMFDisplayWikibaseDescriptions\":{\"search\":true,\"watchlist\":true,\"tagline\":false,\"nearby\":true},\"wgWMESchemaEditAttemptStepOversample\":false,\"wgWMEPageLength\":200000,\"wgCoordinates\":{\"lat\":50.833333333333336,\"lon\":4},\"wgEditSubmitButtonLabelPublish\":true,\"wgULSPosition\":\"interlanguage\",\"wgULSisCompactLinksEnabled\":false,\"wgVector2022LanguageInHeader\":true,\"wgULSisLanguageSelectorEmpty\":false,\"wgWikibaseItemId\":\"Q31\",\"wgCheckUserClientHintsHeadersJsApi\":[\"brands\",\"architecture\",\"bitness\",\"fullVersionList\",\"mobile\",\"model\",\"platform\",\"platformVersion\"],\"GEHomepageSuggestedEditsEnableTopics\":true,\"wgGETopicsMatchModeEnabled\":false,\"wgGELevelingUpEnabledForUser\":false};\n",
       " RLSTATE={\"ext.globalCssJs.user.styles\":\"ready\",\"site.styles\":\"ready\",\"user.styles\":\"ready\",\"ext.globalCssJs.user\":\"ready\",\"user\":\"ready\",\"user.options\":\"loading\",\"ext.cite.styles\":\"ready\",\"ext.phonos.styles\":\"ready\",\"ext.phonos.icons\":\"ready\",\"ext.tmh.player.styles\":\"ready\",\"skins.vector.search.codex.styles\":\"ready\",\"skins.vector.styles\":\"ready\",\"skins.vector.icons\":\"ready\",\"jquery.tablesorter.styles\":\"ready\",\"jquery.makeCollapsible.styles\":\"ready\",\"ext.wikimediamessages.styles\":\"ready\",\"ext.visualEditor.desktopArticleTarget.noscript\":\"ready\",\"ext.uls.interlanguage\":\"ready\",\"wikibase.client.init\":\"ready\",\"ext.wikimediaBadges\":\"ready\"};RLPAGEMODULES=[\"ext.cite.ux-enhancements\",\"ext.phonos.init\",\"ext.tmh.player\",\"mediawiki.page.media\",\"site\",\"mediawiki.page.ready\",\"jquery.tablesorter\",\"jquery.makeCollapsible\",\"mediawiki.toc\",\"skins.vector.js\",\"ext.centralNotice.geoIP\",\"ext.centralNotice.startUp\",\"ext.gadget.ReferenceTooltips\",\"ext.gadget.switcher\",\"ext.gadget.WikiMiniAtlas\",\"ext.urlShortener.toolbar\",\"ext.centralauth.centralautologin\",\"mmv.bootstrap\",\"ext.popups\",\"ext.visualEditor.desktopArticleTarget.init\",\"ext.visualEditor.targetLoader\",\"ext.echo.centralauth\",\"ext.eventLogging\",\"ext.wikimediaEvents\",\"ext.navigationTiming\",\"ext.uls.interface\",\"ext.cx.eventlogging.campaigns\",\"ext.cx.uls.quick.actions\",\"wikibase.client.vector-2022\",\"ext.checkUser.clientHints\",\"ext.quicksurveys.init\",\"ext.growthExperiments.SuggestedEditSession\"];</script>,\n",
       " <script>(RLQ=window.RLQ||[]).push(function(){mw.loader.impl(function(){return[\"user.options@12s5i\",function($,jQuery,require,module){mw.user.tokens.set({\"patrolToken\":\"+\\\\\",\"watchToken\":\"+\\\\\",\"csrfToken\":\"+\\\\\"});\n",
       " }];});});</script>,\n",
       " <link href=\"/w/load.php?lang=en&amp;modules=ext.cite.styles%7Cext.phonos.icons%2Cstyles%7Cext.tmh.player.styles%7Cext.uls.interlanguage%7Cext.visualEditor.desktopArticleTarget.noscript%7Cext.wikimediaBadges%7Cext.wikimediamessages.styles%7Cjquery.makeCollapsible.styles%7Cjquery.tablesorter.styles%7Cskins.vector.icons%2Cstyles%7Cskins.vector.search.codex.styles%7Cwikibase.client.init&amp;only=styles&amp;skin=vector-2022\" rel=\"stylesheet\"/>,\n",
       " <script async=\"\" src=\"/w/load.php?lang=en&amp;modules=startup&amp;only=scripts&amp;raw=1&amp;skin=vector-2022\"></script>,\n",
       " <meta content=\"\" name=\"ResourceLoaderDynamicStyles\"/>,\n",
       " <link href=\"/w/load.php?lang=en&amp;modules=site.styles&amp;only=styles&amp;skin=vector-2022\" rel=\"stylesheet\"/>,\n",
       " <meta content=\"MediaWiki 1.44.0-wmf.25\" name=\"generator\"/>,\n",
       " <meta content=\"origin\" name=\"referrer\"/>,\n",
       " <meta content=\"origin-when-cross-origin\" name=\"referrer\"/>,\n",
       " <meta content=\"max-image-preview:standard\" name=\"robots\"/>,\n",
       " <meta content=\"telephone=no\" name=\"format-detection\"/>,\n",
       " <meta content=\"https://upload.wikimedia.org/wikipedia/commons/thumb/6/65/Flag_of_Belgium.svg/1200px-Flag_of_Belgium.svg.png\" property=\"og:image\"/>,\n",
       " <meta content=\"1200\" property=\"og:image:width\"/>,\n",
       " <meta content=\"1040\" property=\"og:image:height\"/>,\n",
       " <meta content=\"https://upload.wikimedia.org/wikipedia/commons/thumb/6/65/Flag_of_Belgium.svg/800px-Flag_of_Belgium.svg.png\" property=\"og:image\"/>,\n",
       " <meta content=\"800\" property=\"og:image:width\"/>,\n",
       " <meta content=\"693\" property=\"og:image:height\"/>,\n",
       " <meta content=\"https://upload.wikimedia.org/wikipedia/commons/thumb/6/65/Flag_of_Belgium.svg/640px-Flag_of_Belgium.svg.png\" property=\"og:image\"/>,\n",
       " <meta content=\"640\" property=\"og:image:width\"/>,\n",
       " <meta content=\"555\" property=\"og:image:height\"/>,\n",
       " <meta content=\"width=1120\" name=\"viewport\"/>,\n",
       " <meta content=\"Belgium - Wikipedia\" property=\"og:title\"/>,\n",
       " <meta content=\"website\" property=\"og:type\"/>,\n",
       " <link href=\"//upload.wikimedia.org\" rel=\"preconnect\"/>,\n",
       " <link href=\"//en.m.wikipedia.org/wiki/Belgium\" media=\"only screen and (max-width: 640px)\" rel=\"alternate\"/>,\n",
       " <link href=\"/static/apple-touch/wikipedia.png\" rel=\"apple-touch-icon\"/>,\n",
       " <link href=\"/static/favicon/wikipedia.ico\" rel=\"icon\"/>,\n",
       " <link href=\"/w/rest.php/v1/search\" rel=\"search\" title=\"Wikipedia (en)\" type=\"application/opensearchdescription+xml\"/>,\n",
       " <link href=\"//en.wikipedia.org/w/api.php?action=rsd\" rel=\"EditURI\" type=\"application/rsd+xml\"/>,\n",
       " <link href=\"https://en.wikipedia.org/wiki/Belgium\" rel=\"canonical\"/>,\n",
       " <link href=\"https://creativecommons.org/licenses/by-sa/4.0/deed.en\" rel=\"license\"/>,\n",
       " <link href=\"/w/index.php?title=Special:RecentChanges&amp;feed=atom\" rel=\"alternate\" title=\"Wikipedia Atom feed\" type=\"application/atom+xml\"/>,\n",
       " <link href=\"//meta.wikimedia.org\" rel=\"dns-prefetch\">\n",
       " <link href=\"auth.wikimedia.org\" rel=\"dns-prefetch\"/>\n",
       " </link>,\n",
       " <link href=\"auth.wikimedia.org\" rel=\"dns-prefetch\"/>]"
      ]
     },
     "execution_count": 13,
     "metadata": {},
     "output_type": "execute_result"
    }
   ],
   "source": [
    "page_content = BeautifulSoup(response.content, 'html.parser')\n",
    "page_content.head()"
   ]
  },
  {
   "cell_type": "code",
   "execution_count": null,
   "id": "fac01a2e-8267-486c-bbf0-57d70300b33e",
   "metadata": {},
   "outputs": [],
   "source": [
    "#Using find "
   ]
  },
  {
   "cell_type": "code",
   "execution_count": 14,
   "id": "2259e284-2fa4-4163-a6d9-6e49aff6e0e2",
   "metadata": {},
   "outputs": [
    {
     "data": {
      "text/plain": [
       "<title>Belgium - Wikipedia</title>"
      ]
     },
     "execution_count": 14,
     "metadata": {},
     "output_type": "execute_result"
    }
   ],
   "source": [
    "title = page_content.find('title')\n",
    "title"
   ]
  },
  {
   "cell_type": "code",
   "execution_count": 15,
   "id": "e1d63c21-66e6-43f5-99d3-16288d4f061c",
   "metadata": {},
   "outputs": [
    {
     "data": {
      "text/plain": [
       "'Belgium - Wikipedia'"
      ]
     },
     "execution_count": 15,
     "metadata": {},
     "output_type": "execute_result"
    }
   ],
   "source": [
    "title = page_content.find('title').text\n",
    "title"
   ]
  },
  {
   "cell_type": "code",
   "execution_count": 17,
   "id": "549cce9f-4b73-44db-ba0e-d3b08dbefa39",
   "metadata": {},
   "outputs": [],
   "source": [
    "#Using find_all"
   ]
  },
  {
   "cell_type": "code",
   "execution_count": 18,
   "id": "83dfc355-461b-4b1d-9bb2-9e16337a1baa",
   "metadata": {},
   "outputs": [
    {
     "data": {
      "text/plain": [
       "[<div class=\"mw-heading mw-heading3\"><h3 id=\"Antiquity\">Antiquity</h3></div>,\n",
       " <div class=\"mw-heading mw-heading3\"><h3 id=\"Middle_Ages\">Middle Ages</h3></div>,\n",
       " <div class=\"mw-heading mw-heading3\"><h3 id=\"Burgundian_and_Habsburg_Netherlands\">Burgundian and Habsburg Netherlands</h3></div>,\n",
       " <div class=\"mw-heading mw-heading3\"><h3 id=\"Spanish_and_Austrian_Netherlands\">Spanish and Austrian Netherlands</h3></div>,\n",
       " <div class=\"mw-heading mw-heading3\"><h3 id=\"French_Revolution_and_United_Kingdom_of_the_Netherlands\">French Revolution and United Kingdom of the Netherlands</h3></div>,\n",
       " <div class=\"mw-heading mw-heading3\"><h3 id=\"Independent_Belgium\">Independent Belgium</h3></div>,\n",
       " <div class=\"mw-heading mw-heading3\"><h3 id=\"Provinces\">Provinces</h3></div>,\n",
       " <div class=\"mw-heading mw-heading3\"><h3 id=\"Political_culture\">Political culture</h3></div>,\n",
       " <div class=\"mw-heading mw-heading3\"><h3 id=\"Communities_and_regions\">Communities and regions</h3></div>,\n",
       " <div class=\"mw-heading mw-heading3\"><h3 id=\"Locus_of_policy_jurisdiction\">Locus of policy jurisdiction</h3></div>,\n",
       " <div class=\"mw-heading mw-heading3\"><h3 id=\"Foreign_relations\">Foreign relations</h3></div>,\n",
       " <div class=\"mw-heading mw-heading3\"><h3 id=\"Armed_forces\">Armed forces</h3></div>,\n",
       " <div class=\"mw-heading mw-heading3\"><h3 id=\"Science_and_technology\">Science and technology</h3></div>,\n",
       " <div class=\"mw-heading mw-heading3\"><h3 id=\"Migration\">Migration</h3></div>,\n",
       " <div class=\"mw-heading mw-heading3\"><h3 id=\"Languages\">Languages</h3></div>,\n",
       " <div class=\"mw-heading mw-heading3\"><h3 id=\"Religion\">Religion</h3></div>,\n",
       " <div class=\"mw-heading mw-heading3\"><h3 id=\"Health\">Health</h3></div>,\n",
       " <div class=\"mw-heading mw-heading3\"><h3 id=\"Education\">Education</h3></div>,\n",
       " <div class=\"mw-heading mw-heading3\"><h3 id=\"Fine_arts\">Fine arts</h3></div>,\n",
       " <div class=\"mw-heading mw-heading3\"><h3 id=\"Folklore\">Folklore</h3></div>,\n",
       " <div class=\"mw-heading mw-heading3\"><h3 id=\"Cuisine\">Cuisine</h3></div>,\n",
       " <div class=\"mw-heading mw-heading3\"><h3 id=\"Sports\">Sports</h3></div>,\n",
       " <div class=\"mw-heading mw-heading3\"><h3 id=\"Online_sources\">Online sources</h3></div>,\n",
       " <div class=\"mw-heading mw-heading3\"><h3 id=\"Bibliography\">Bibliography</h3></div>,\n",
       " <div class=\"mw-heading mw-heading3\"><h3 id=\"Government\">Government</h3></div>,\n",
       " <div class=\"mw-heading mw-heading3\"><h3 id=\"General\">General</h3></div>]"
      ]
     },
     "execution_count": 18,
     "metadata": {},
     "output_type": "execute_result"
    }
   ],
   "source": [
    "find_all = page_content.find_all('div',class_='mw-heading mw-heading3')\n",
    "find_all"
   ]
  },
  {
   "cell_type": "code",
   "execution_count": 19,
   "id": "81bde8dc-3410-4ada-976b-260147ebfd38",
   "metadata": {},
   "outputs": [
    {
     "data": {
      "text/plain": [
       "26"
      ]
     },
     "execution_count": 19,
     "metadata": {},
     "output_type": "execute_result"
    }
   ],
   "source": [
    "len(find_all)"
   ]
  },
  {
   "cell_type": "code",
   "execution_count": 20,
   "id": "c54a4502-9c5e-4512-9b8f-ee5d147aba43",
   "metadata": {},
   "outputs": [
    {
     "name": "stdout",
     "output_type": "stream",
     "text": [
      "Antiquity\n",
      "Middle Ages\n",
      "Burgundian and Habsburg Netherlands\n",
      "Spanish and Austrian Netherlands\n",
      "French Revolution and United Kingdom of the Netherlands\n",
      "Independent Belgium\n",
      "Provinces\n",
      "Political culture\n",
      "Communities and regions\n",
      "Locus of policy jurisdiction\n",
      "Foreign relations\n",
      "Armed forces\n",
      "Science and technology\n",
      "Migration\n",
      "Languages\n",
      "Religion\n",
      "Health\n",
      "Education\n",
      "Fine arts\n",
      "Folklore\n",
      "Cuisine\n",
      "Sports\n",
      "Online sources\n",
      "Bibliography\n",
      "Government\n",
      "General\n"
     ]
    }
   ],
   "source": [
    "for i in find_all:\n",
    "    print(i.text)"
   ]
  },
  {
   "cell_type": "code",
   "execution_count": 21,
   "id": "dbe15101-65dd-4ea6-babd-062373725e86",
   "metadata": {},
   "outputs": [],
   "source": [
    "#Using select_one"
   ]
  },
  {
   "cell_type": "code",
   "execution_count": 22,
   "id": "063f52a0-2f5a-4b58-ad87-280fe4c3c537",
   "metadata": {},
   "outputs": [
    {
     "data": {
      "text/plain": [
       "'History'"
      ]
     },
     "execution_count": 22,
     "metadata": {},
     "output_type": "execute_result"
    }
   ],
   "source": [
    "history = page_content.select_one('div.mw-heading.mw-heading2').text\n",
    "history"
   ]
  },
  {
   "cell_type": "code",
   "execution_count": 23,
   "id": "e67a23af-6ff9-42d9-b3da-eeebad4ab6b1",
   "metadata": {},
   "outputs": [
    {
     "data": {
      "text/plain": [
       "'Antiquity'"
      ]
     },
     "execution_count": 23,
     "metadata": {},
     "output_type": "execute_result"
    }
   ],
   "source": [
    "Antiquity = page_content.select_one('div.mw-heading.mw-heading3').text\n",
    "Antiquity"
   ]
  },
  {
   "cell_type": "code",
   "execution_count": 24,
   "id": "345fbf55-f3c0-45fb-9390-53838fb20d23",
   "metadata": {},
   "outputs": [],
   "source": [
    "#Using select"
   ]
  },
  {
   "cell_type": "code",
   "execution_count": 25,
   "id": "3e066cda-e8bc-47d4-a4a7-8005a248d0a2",
   "metadata": {},
   "outputs": [
    {
     "data": {
      "text/plain": [
       "[<div class=\"mw-heading mw-heading2\"><h2 id=\"History\">History</h2></div>,\n",
       " <div class=\"mw-heading mw-heading2\"><h2 id=\"Geography\">Geography</h2></div>,\n",
       " <div class=\"mw-heading mw-heading2\"><h2 id=\"Politics_and_government\">Politics and government</h2></div>,\n",
       " <div class=\"mw-heading mw-heading2\"><h2 id=\"Economy\">Economy</h2></div>,\n",
       " <div class=\"mw-heading mw-heading2\"><h2 id=\"Demographics\">Demographics</h2></div>,\n",
       " <div class=\"mw-heading mw-heading2\"><h2 id=\"Culture\">Culture</h2></div>,\n",
       " <div class=\"mw-heading mw-heading2\"><h2 id=\"See_also\">See also</h2></div>,\n",
       " <div class=\"mw-heading mw-heading2\"><h2 id=\"Footnotes\">Footnotes</h2></div>,\n",
       " <div class=\"mw-heading mw-heading2\"><h2 id=\"References\">References</h2></div>,\n",
       " <div class=\"mw-heading mw-heading2\"><h2 id=\"External_links\">External links</h2></div>]"
      ]
     },
     "execution_count": 25,
     "metadata": {},
     "output_type": "execute_result"
    }
   ],
   "source": [
    "select_all = page_content.select('div.mw-heading.mw-heading2')\n",
    "select_all"
   ]
  },
  {
   "cell_type": "code",
   "execution_count": 26,
   "id": "b8f65cc3-86fb-47e5-93c7-ea3ea5c5b6cd",
   "metadata": {},
   "outputs": [
    {
     "name": "stdout",
     "output_type": "stream",
     "text": [
      "History\n",
      "Geography\n",
      "Politics and government\n",
      "Economy\n",
      "Demographics\n",
      "Culture\n",
      "See also\n",
      "Footnotes\n",
      "References\n",
      "External links\n"
     ]
    }
   ],
   "source": [
    "for j in select_all:\n",
    "    print(j.text)"
   ]
  }
 ],
 "metadata": {
  "kernelspec": {
   "display_name": "Python 3 (ipykernel)",
   "language": "python",
   "name": "python3"
  },
  "language_info": {
   "codemirror_mode": {
    "name": "ipython",
    "version": 3
   },
   "file_extension": ".py",
   "mimetype": "text/x-python",
   "name": "python",
   "nbconvert_exporter": "python",
   "pygments_lexer": "ipython3",
   "version": "3.12.1"
  }
 },
 "nbformat": 4,
 "nbformat_minor": 5
}
